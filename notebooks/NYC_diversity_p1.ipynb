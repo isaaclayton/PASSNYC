{
 "cells": [
  {
   "cell_type": "code",
   "execution_count": 18,
   "metadata": {
    "_cell_guid": "b1076dfc-b9ad-4769-8c92-a6c4dae69d19",
    "_uuid": "8f2839f25d086af736a60e9eeb907d3b93b6e0e5"
   },
   "outputs": [],
   "source": [
    "import numpy as np\n",
    "import pandas as pd\n",
    "import matplotlib as mpl\n",
    "import matplotlib.pyplot as plt\n",
    "%matplotlib inline\n",
    "plt.style.use('seaborn-white')\n",
    "import scipy\n",
    "import math\n",
    "from typing import List, Tuple, Dict, Union\n",
    "from textwrap import wrap\n",
    "import ipywidgets as widgets\n",
    "from IPython.display import Markdown\n",
    "from statsmodels.sandbox.stats.multicomp import multipletests\n",
    "import os\n",
    "\n",
    "pd.set_option('display.max_columns', None)"
   ]
  },
  {
   "cell_type": "markdown",
   "metadata": {
    "_uuid": "401c0e23ff6bbff0d29a8e3dafdb5c952d02e038"
   },
   "source": [
    "# Specialized High Schools and the SHSAT"
   ]
  },
  {
   "cell_type": "markdown",
   "metadata": {},
   "source": [
    "According to a directory that the New York City Department of Education provides <sup><a href='#1'>1</a></sup> , NYC has 440 public high schools. "
   ]
  },
  {
   "cell_type": "code",
   "execution_count": 19,
   "metadata": {},
   "outputs": [
    {
     "data": {
      "text/plain": [
       "440"
      ]
     },
     "execution_count": 19,
     "metadata": {},
     "output_type": "execute_result"
    }
   ],
   "source": [
    "HSDir_2017 = pd.read_csv('../data/2017-doe-high-school-directory.csv')\n",
    "len(HSDir_2017['school_name'].unique())"
   ]
  },
  {
   "cell_type": "markdown",
   "metadata": {},
   "source": [
    "Nine of these high schools are classified as \"specialized\" and are targeted specifically towards gifted students. "
   ]
  },
  {
   "cell_type": "code",
   "execution_count": 20,
   "metadata": {},
   "outputs": [
    {
     "name": "stdout",
     "output_type": "stream",
     "text": [
      "Brooklyn Latin School, The\n",
      "Brooklyn Technical High School\n",
      "Queens High School for the Sciences at York College\n",
      "Fiorello H. LaGuardia High School of Music & Art and Performing Arts\n",
      "Stuyvesant High School\n",
      "High School for Mathematics, Science and Engineering at City College (HSMSE)\n",
      "Staten Island Technical High School\n",
      "Bronx High School of Science\n",
      "High School of American Studies at Lehman College\n"
     ]
    }
   ],
   "source": [
    "#Creating a dictionary of specialized high schools and their district borough numbers, a helpful ID variable\n",
    "specialized_dict = {dbn:school for dbn, school in HSDir_2017.query('specialized==1')[['dbn', 'school_name']].values}\n",
    "\n",
    "for school in specialized_dict.values():\n",
    "    print(school)"
   ]
  },
  {
   "cell_type": "markdown",
   "metadata": {
    "_uuid": "be2393155f59e098637b73ec2c116276dea9d593"
   },
   "source": [
    "The only criteria for admission to most specialized high schools is a student's score on the Specialized High Schools Admissions Test (SHSAT), a test consisting of an English Language Arts section and a math section. The only specialized high school that does not consider the SHSAT is Fiorello H. LaGuardia High School of Music & Art and Performing Arts. According to its website:\n",
    ">\"Acceptance to LaGuardia Arts is based on a competitive audition and review of student records to ensure success in both the demanding studio work and the challenging academic programs.\" <sup><a href='#2'>2</a></sup>"
   ]
  },
  {
   "cell_type": "code",
   "execution_count": 21,
   "metadata": {},
   "outputs": [
    {
     "data": {
      "text/plain": [
       "'Fiorello H. LaGuardia High School of Music & Art and Performing Arts'"
      ]
     },
     "execution_count": 21,
     "metadata": {},
     "output_type": "execute_result"
    }
   ],
   "source": [
    "#Removing Fiorello from the specialized high school dictionary\n",
    "specialized_dict.pop('03M485', None)"
   ]
  },
  {
   "cell_type": "markdown",
   "metadata": {},
   "source": [
    "The SHSAT is optionally offered every fall for 8th and 9th graders. Only 18% of the students who took the SHSAT in 2016 ended up receiving an offer, making these schools notoriously difficult to get into. <sup><a href='#3'>3</a></sup> \n",
    " \n",
    " PASSNYC (Promoting Access to Specialized Schools in New York City) is a non-profit company based in NYC. Their purpose is to provide outreach programs for kids in under-served areas to help them prepare for the SHSAT. By giving the kids opportunities to succeed, PASSNYC aims to bring more diversity to the specialized high schools. The organization already has methods in place to identify kids and schools suited for their outreach programs. But they believe that they can do better."
   ]
  },
  {
   "cell_type": "markdown",
   "metadata": {},
   "source": [
    " The purpose of this notebook is to quantify the diversity issue in specialized high schools. In a following notebook, schools that PASSNYC could help will be identified. \n"
   ]
  },
  {
   "cell_type": "markdown",
   "metadata": {},
   "source": [
    "# Disparity in the Specialized High Schools"
   ]
  },
  {
   "cell_type": "markdown",
   "metadata": {
    "_uuid": "2ae3a3747a7c2e83fd09674e2bc57a55f113e31e"
   },
   "source": [
    "On PASSNYC's website, they state: \n",
    ">\"In recent years, the City’s specialized high schools—institutions with historically transformative impact on student outcomes—have seen a shift toward more homogenous [sic] student body demographics.\" <sup><a href='#4'>4</a></sup>\n",
    "\n",
    "To validify this statement, demographic data is needed from a range of school years. Thankfully, a NYC Department of Education dataset labeled \"2013 - 2018 Demographic Snapshot School\" contains demographic information for students from 2013-2018. <sup><a href='#5'>5</a></sup> "
   ]
  },
  {
   "cell_type": "code",
   "execution_count": 22,
   "metadata": {
    "_uuid": "e0eb21d9c99db39689470f046d64db308d1cabc1"
   },
   "outputs": [],
   "source": [
    "#Import the datasets\n",
    "demographics_df = pd.read_csv('../data/2013_-_2018_Demographic_Snapshot_School.csv')"
   ]
  },
  {
   "cell_type": "code",
   "execution_count": 23,
   "metadata": {
    "_uuid": "a184c20d367ad1fccfbd9a44b6b556882946e482"
   },
   "outputs": [
    {
     "data": {
      "text/html": [
       "<div>\n",
       "<style scoped>\n",
       "    .dataframe tbody tr th:only-of-type {\n",
       "        vertical-align: middle;\n",
       "    }\n",
       "\n",
       "    .dataframe tbody tr th {\n",
       "        vertical-align: top;\n",
       "    }\n",
       "\n",
       "    .dataframe thead th {\n",
       "        text-align: right;\n",
       "    }\n",
       "</style>\n",
       "<table border=\"1\" class=\"dataframe\">\n",
       "  <thead>\n",
       "    <tr style=\"text-align: right;\">\n",
       "      <th></th>\n",
       "      <th>DBN</th>\n",
       "      <th>School Name</th>\n",
       "      <th>Year</th>\n",
       "      <th>Total Enrollment</th>\n",
       "      <th>Grade PK (Half Day &amp; Full Day)</th>\n",
       "      <th>Grade K</th>\n",
       "      <th>Grade 1</th>\n",
       "      <th>Grade 2</th>\n",
       "      <th>Grade 3</th>\n",
       "      <th>Grade 4</th>\n",
       "      <th>Grade 5</th>\n",
       "      <th>Grade 6</th>\n",
       "      <th>Grade 7</th>\n",
       "      <th>Grade 8</th>\n",
       "      <th>Grade 9</th>\n",
       "      <th>Grade 10</th>\n",
       "      <th>Grade 11</th>\n",
       "      <th>Grade 12</th>\n",
       "      <th># Female</th>\n",
       "      <th>% Female</th>\n",
       "      <th># Male</th>\n",
       "      <th>% Male</th>\n",
       "      <th># Asian</th>\n",
       "      <th>% Asian</th>\n",
       "      <th># Black</th>\n",
       "      <th>% Black</th>\n",
       "      <th># Hispanic</th>\n",
       "      <th>% Hispanic</th>\n",
       "      <th># Multiple Race Categories Not Represented</th>\n",
       "      <th>% Multiple Race Categories Not Represented</th>\n",
       "      <th># White</th>\n",
       "      <th>% White</th>\n",
       "      <th># Students with Disabilities</th>\n",
       "      <th>% Students with Disabilities</th>\n",
       "      <th># English Language Learners</th>\n",
       "      <th>% English Language Learners</th>\n",
       "      <th># Poverty</th>\n",
       "      <th>% Poverty</th>\n",
       "      <th>Economic Need Index</th>\n",
       "    </tr>\n",
       "  </thead>\n",
       "  <tbody>\n",
       "    <tr>\n",
       "      <th>0</th>\n",
       "      <td>01M015</td>\n",
       "      <td>P.S. 015 Roberto Clemente</td>\n",
       "      <td>2013-14</td>\n",
       "      <td>190</td>\n",
       "      <td>26</td>\n",
       "      <td>39</td>\n",
       "      <td>39</td>\n",
       "      <td>21</td>\n",
       "      <td>16</td>\n",
       "      <td>26</td>\n",
       "      <td>23</td>\n",
       "      <td>0</td>\n",
       "      <td>0</td>\n",
       "      <td>0</td>\n",
       "      <td>0</td>\n",
       "      <td>0</td>\n",
       "      <td>0</td>\n",
       "      <td>0</td>\n",
       "      <td>93</td>\n",
       "      <td>48.9%</td>\n",
       "      <td>97</td>\n",
       "      <td>51.1%</td>\n",
       "      <td>9</td>\n",
       "      <td>4.7%</td>\n",
       "      <td>72</td>\n",
       "      <td>37.9%</td>\n",
       "      <td>104</td>\n",
       "      <td>54.7%</td>\n",
       "      <td>2</td>\n",
       "      <td>1.1%</td>\n",
       "      <td>3</td>\n",
       "      <td>1.6%</td>\n",
       "      <td>65</td>\n",
       "      <td>34.2%</td>\n",
       "      <td>19</td>\n",
       "      <td>10%</td>\n",
       "      <td>171</td>\n",
       "      <td>90%</td>\n",
       "      <td>No Data</td>\n",
       "    </tr>\n",
       "    <tr>\n",
       "      <th>1</th>\n",
       "      <td>01M015</td>\n",
       "      <td>P.S. 015 Roberto Clemente</td>\n",
       "      <td>2014-15</td>\n",
       "      <td>183</td>\n",
       "      <td>18</td>\n",
       "      <td>27</td>\n",
       "      <td>47</td>\n",
       "      <td>31</td>\n",
       "      <td>19</td>\n",
       "      <td>17</td>\n",
       "      <td>24</td>\n",
       "      <td>0</td>\n",
       "      <td>0</td>\n",
       "      <td>0</td>\n",
       "      <td>0</td>\n",
       "      <td>0</td>\n",
       "      <td>0</td>\n",
       "      <td>0</td>\n",
       "      <td>84</td>\n",
       "      <td>45.9%</td>\n",
       "      <td>99</td>\n",
       "      <td>54.1%</td>\n",
       "      <td>8</td>\n",
       "      <td>4.4%</td>\n",
       "      <td>65</td>\n",
       "      <td>35.5%</td>\n",
       "      <td>107</td>\n",
       "      <td>58.5%</td>\n",
       "      <td>1</td>\n",
       "      <td>0.5%</td>\n",
       "      <td>2</td>\n",
       "      <td>1.1%</td>\n",
       "      <td>64</td>\n",
       "      <td>35%</td>\n",
       "      <td>17</td>\n",
       "      <td>9.3%</td>\n",
       "      <td>169</td>\n",
       "      <td>92.3%</td>\n",
       "      <td>93.5%</td>\n",
       "    </tr>\n",
       "    <tr>\n",
       "      <th>2</th>\n",
       "      <td>01M015</td>\n",
       "      <td>P.S. 015 Roberto Clemente</td>\n",
       "      <td>2015-16</td>\n",
       "      <td>176</td>\n",
       "      <td>14</td>\n",
       "      <td>32</td>\n",
       "      <td>33</td>\n",
       "      <td>39</td>\n",
       "      <td>23</td>\n",
       "      <td>17</td>\n",
       "      <td>18</td>\n",
       "      <td>0</td>\n",
       "      <td>0</td>\n",
       "      <td>0</td>\n",
       "      <td>0</td>\n",
       "      <td>0</td>\n",
       "      <td>0</td>\n",
       "      <td>0</td>\n",
       "      <td>83</td>\n",
       "      <td>47.2%</td>\n",
       "      <td>93</td>\n",
       "      <td>52.8%</td>\n",
       "      <td>9</td>\n",
       "      <td>5.1%</td>\n",
       "      <td>57</td>\n",
       "      <td>32.4%</td>\n",
       "      <td>105</td>\n",
       "      <td>59.7%</td>\n",
       "      <td>3</td>\n",
       "      <td>1.7%</td>\n",
       "      <td>2</td>\n",
       "      <td>1.1%</td>\n",
       "      <td>60</td>\n",
       "      <td>34.1%</td>\n",
       "      <td>16</td>\n",
       "      <td>9.1%</td>\n",
       "      <td>149</td>\n",
       "      <td>84.7%</td>\n",
       "      <td>89.6%</td>\n",
       "    </tr>\n",
       "    <tr>\n",
       "      <th>3</th>\n",
       "      <td>01M015</td>\n",
       "      <td>P.S. 015 Roberto Clemente</td>\n",
       "      <td>2016-17</td>\n",
       "      <td>178</td>\n",
       "      <td>17</td>\n",
       "      <td>28</td>\n",
       "      <td>33</td>\n",
       "      <td>27</td>\n",
       "      <td>31</td>\n",
       "      <td>24</td>\n",
       "      <td>18</td>\n",
       "      <td>0</td>\n",
       "      <td>0</td>\n",
       "      <td>0</td>\n",
       "      <td>0</td>\n",
       "      <td>0</td>\n",
       "      <td>0</td>\n",
       "      <td>0</td>\n",
       "      <td>83</td>\n",
       "      <td>46.6%</td>\n",
       "      <td>95</td>\n",
       "      <td>53.4%</td>\n",
       "      <td>14</td>\n",
       "      <td>7.9%</td>\n",
       "      <td>51</td>\n",
       "      <td>28.7%</td>\n",
       "      <td>105</td>\n",
       "      <td>59%</td>\n",
       "      <td>4</td>\n",
       "      <td>2.2%</td>\n",
       "      <td>4</td>\n",
       "      <td>2.2%</td>\n",
       "      <td>51</td>\n",
       "      <td>28.7%</td>\n",
       "      <td>12</td>\n",
       "      <td>6.7%</td>\n",
       "      <td>152</td>\n",
       "      <td>85.4%</td>\n",
       "      <td>89.2%</td>\n",
       "    </tr>\n",
       "    <tr>\n",
       "      <th>4</th>\n",
       "      <td>01M015</td>\n",
       "      <td>P.S. 015 Roberto Clemente</td>\n",
       "      <td>2017-18</td>\n",
       "      <td>190</td>\n",
       "      <td>17</td>\n",
       "      <td>28</td>\n",
       "      <td>32</td>\n",
       "      <td>33</td>\n",
       "      <td>23</td>\n",
       "      <td>31</td>\n",
       "      <td>26</td>\n",
       "      <td>0</td>\n",
       "      <td>0</td>\n",
       "      <td>0</td>\n",
       "      <td>0</td>\n",
       "      <td>0</td>\n",
       "      <td>0</td>\n",
       "      <td>0</td>\n",
       "      <td>99</td>\n",
       "      <td>52.1%</td>\n",
       "      <td>91</td>\n",
       "      <td>47.9%</td>\n",
       "      <td>20</td>\n",
       "      <td>10.5%</td>\n",
       "      <td>52</td>\n",
       "      <td>27.4%</td>\n",
       "      <td>110</td>\n",
       "      <td>57.9%</td>\n",
       "      <td>2</td>\n",
       "      <td>1.1%</td>\n",
       "      <td>6</td>\n",
       "      <td>3.2%</td>\n",
       "      <td>45</td>\n",
       "      <td>23.7%</td>\n",
       "      <td>8</td>\n",
       "      <td>4.2%</td>\n",
       "      <td>161</td>\n",
       "      <td>84.7%</td>\n",
       "      <td>89.0%</td>\n",
       "    </tr>\n",
       "  </tbody>\n",
       "</table>\n",
       "</div>"
      ],
      "text/plain": [
       "      DBN                School Name     Year  Total Enrollment  \\\n",
       "0  01M015  P.S. 015 Roberto Clemente  2013-14               190   \n",
       "1  01M015  P.S. 015 Roberto Clemente  2014-15               183   \n",
       "2  01M015  P.S. 015 Roberto Clemente  2015-16               176   \n",
       "3  01M015  P.S. 015 Roberto Clemente  2016-17               178   \n",
       "4  01M015  P.S. 015 Roberto Clemente  2017-18               190   \n",
       "\n",
       "   Grade PK (Half Day & Full Day)  Grade K  Grade 1  Grade 2  Grade 3  \\\n",
       "0                              26       39       39       21       16   \n",
       "1                              18       27       47       31       19   \n",
       "2                              14       32       33       39       23   \n",
       "3                              17       28       33       27       31   \n",
       "4                              17       28       32       33       23   \n",
       "\n",
       "   Grade 4  Grade 5  Grade 6  Grade 7  Grade 8  Grade 9  Grade 10  Grade 11  \\\n",
       "0       26       23        0        0        0        0         0         0   \n",
       "1       17       24        0        0        0        0         0         0   \n",
       "2       17       18        0        0        0        0         0         0   \n",
       "3       24       18        0        0        0        0         0         0   \n",
       "4       31       26        0        0        0        0         0         0   \n",
       "\n",
       "   Grade 12  # Female % Female  # Male % Male  # Asian % Asian  # Black  \\\n",
       "0         0        93    48.9%      97  51.1%        9    4.7%       72   \n",
       "1         0        84    45.9%      99  54.1%        8    4.4%       65   \n",
       "2         0        83    47.2%      93  52.8%        9    5.1%       57   \n",
       "3         0        83    46.6%      95  53.4%       14    7.9%       51   \n",
       "4         0        99    52.1%      91  47.9%       20   10.5%       52   \n",
       "\n",
       "  % Black  # Hispanic % Hispanic  # Multiple Race Categories Not Represented  \\\n",
       "0   37.9%         104      54.7%                                           2   \n",
       "1   35.5%         107      58.5%                                           1   \n",
       "2   32.4%         105      59.7%                                           3   \n",
       "3   28.7%         105        59%                                           4   \n",
       "4   27.4%         110      57.9%                                           2   \n",
       "\n",
       "  % Multiple Race Categories Not Represented  # White % White  \\\n",
       "0                                       1.1%        3    1.6%   \n",
       "1                                       0.5%        2    1.1%   \n",
       "2                                       1.7%        2    1.1%   \n",
       "3                                       2.2%        4    2.2%   \n",
       "4                                       1.1%        6    3.2%   \n",
       "\n",
       "   # Students with Disabilities % Students with Disabilities  \\\n",
       "0                            65                        34.2%   \n",
       "1                            64                          35%   \n",
       "2                            60                        34.1%   \n",
       "3                            51                        28.7%   \n",
       "4                            45                        23.7%   \n",
       "\n",
       "   # English Language Learners % English Language Learners  # Poverty  \\\n",
       "0                           19                         10%        171   \n",
       "1                           17                        9.3%        169   \n",
       "2                           16                        9.1%        149   \n",
       "3                           12                        6.7%        152   \n",
       "4                            8                        4.2%        161   \n",
       "\n",
       "  % Poverty Economic Need Index  \n",
       "0       90%             No Data  \n",
       "1     92.3%               93.5%  \n",
       "2     84.7%               89.6%  \n",
       "3     85.4%               89.2%  \n",
       "4     84.7%               89.0%  "
      ]
     },
     "execution_count": 23,
     "metadata": {},
     "output_type": "execute_result"
    }
   ],
   "source": [
    "demographics_df.head()"
   ]
  },
  {
   "cell_type": "markdown",
   "metadata": {
    "_uuid": "694f4de435c39aca46405195af02deee569400ca"
   },
   "source": [
    "Looking at the dataset, there appears to be demographic data for ethnicity, gender, whether a student has a disability, whether a student is a non-native English speaker, and whether a student is in poverty."
   ]
  },
  {
   "cell_type": "code",
   "execution_count": 24,
   "metadata": {
    "_uuid": "92e6106852352effb44ee745076e4e35ec8c1380"
   },
   "outputs": [],
   "source": [
    "ethnicity_list = ['ASIAN', 'BLACK', 'HISPANIC', 'WHITE', 'OTHER']\n",
    "gender_list = ['FEMALE', 'MALE']\n",
    "disability_list = ['STUDENTS WITH DISABILITIES', 'STUDENTS WITH NO DISABILITIES']\n",
    "ELL_list = ['ENGLISH LANGUAGE LEARNERS', 'NOT ENGLISH LANGUAGE LEARNERS']\n",
    "poverty_list = ['POVERTY', 'NO POVERTY']\n",
    "demographic_dict = {'Ethnicity': ethnicity_list, 'Gender': gender_list,\n",
    "                    'Disabilities': disability_list, 'Poverty': poverty_list,\n",
    "                    'English Language Learners': ELL_list}"
   ]
  },
  {
   "cell_type": "markdown",
   "metadata": {},
   "source": [
    "After processing the dataset, it will possible to start testing PASSNYC's claim about school homogeneity."
   ]
  },
  {
   "cell_type": "code",
   "execution_count": 25,
   "metadata": {
    "_kg_hide-input": true,
    "_kg_hide-output": true,
    "_uuid": "a765aead088199efaa221e2becc425d5b9115c11"
   },
   "outputs": [],
   "source": [
    "#PREPROCESSING\n",
    "\n",
    "#Making the Year column an integer\n",
    "demographics_df['Year'] = demographics_df['Year'].str.slice(0,4).astype('int64')\n",
    "\n",
    "#Adding a column for Borough\n",
    "demographics_df['borough'] = demographics_df['DBN'].str.slice(2,3)\n",
    "demographics_df.loc[demographics_df['borough']=='X','borough'] = 'Bronx'\n",
    "demographics_df.loc[demographics_df['borough']=='K','borough'] = 'Brooklyn'\n",
    "demographics_df.loc[demographics_df['borough']=='Q','borough'] = 'Queens'\n",
    "demographics_df.loc[demographics_df['borough']=='M','borough'] = 'Manhattan'\n",
    "demographics_df.loc[demographics_df['borough']=='R','borough'] = 'Staten Island'\n",
    "\n",
    "#Changing 'No Data' results in the Economic Need Index to be np.NaN\n",
    "demographics_df.loc[demographics_df['Economic Need Index']=='No Data', 'Economic Need Index'] = np.NaN\n",
    "\n",
    "#Changing percentage columns to float type\n",
    "for column in [column for column in demographics_df.columns if '%' in column] + ['Economic Need Index']:\n",
    "    demographics_df.loc[-demographics_df[column].isnull(), column] = \\\n",
    "    demographics_df.loc[-demographics_df[column].isnull(), column].str.slice(0,-1).astype('float64')/100\n",
    "    \n",
    "#Making all column names in dataset capitalized\n",
    "demographics_df.columns = demographics_df.columns.str.upper()\n",
    "\n",
    "#Rename \"MULTIPLE RACE CATEGORIES NOT REPRESENTED\" to \"OTHER\" to keep succinct\n",
    "demographics_df.rename(columns = {'# MULTIPLE RACE CATEGORIES NOT REPRESENTED': '# OTHER',\n",
    "                                        '% MULTIPLE RACE CATEGORIES NOT REPRESENTED': '% OTHER',\n",
    "                                        'SCHOOL NAME': 'SCHOOL_NAME'}, inplace=True)\n",
    "\n",
    "#Adding columns for demographic inverses\n",
    "demographics_df['# NO POVERTY'] = demographics_df['TOTAL ENROLLMENT'] - demographics_df['# POVERTY']\n",
    "demographics_df['% NO POVERTY'] = 1 - demographics_df['% POVERTY']\n",
    "    \n",
    "demographics_df['# NOT ENGLISH LANGUAGE LEARNERS'] = demographics_df['TOTAL ENROLLMENT'] - demographics_df['# ENGLISH LANGUAGE LEARNERS']  \n",
    "demographics_df['% NOT ENGLISH LANGUAGE LEARNERS'] = 1 - demographics_df['% ENGLISH LANGUAGE LEARNERS']\n",
    "\n",
    "demographics_df['# STUDENTS WITH NO DISABILITIES'] = demographics_df['TOTAL ENROLLMENT'] - demographics_df['# STUDENTS WITH DISABILITIES']  \n",
    "demographics_df['% STUDENTS WITH NO DISABILITIES'] = 1 - demographics_df['% STUDENTS WITH DISABILITIES']  \n",
    "\n",
    "#Updating specialized school names in the datasets\n",
    "for DBN, school_name in specialized_dict.items():\n",
    "    demographics_df.loc[demographics_df['DBN']==DBN, 'SCHOOL_NAME'] = school_name\n",
    "    \n",
    "#Year range for the data\n",
    "years = (2013,2017)"
   ]
  },
  {
   "cell_type": "code",
   "execution_count": 26,
   "metadata": {
    "_kg_hide-input": false,
    "_kg_hide-output": true,
    "_uuid": "c808a578088120d19e4395b696f9c68e05a56fd0"
   },
   "outputs": [],
   "source": [
    "#Only specialized schools\n",
    "specialized_df = demographics_df.query('DBN in @specialized_dict.keys()').copy()\n",
    "specialized_df.set_index(['SCHOOL_NAME', 'YEAR'], inplace=True)"
   ]
  },
  {
   "cell_type": "markdown",
   "metadata": {
    "_uuid": "c3390440e05bcd0bb8332456e0410578632bccc9"
   },
   "source": [
    "## Quantifying Diversity"
   ]
  },
  {
   "cell_type": "markdown",
   "metadata": {
    "_uuid": "0fbb65bc26c17c2d76bb0488c47d7d433d0d43bd"
   },
   "source": [
    "One way to test the accuracy of this statement is to use the Shannon Index. The Shannon Index, \\\\(H\\\\), is one of the most widely used diversity indices <sup><a href='#6'>6</a></sup> , which are used to quantify diversity in a sample. The Shannon Index is defined by\n",
    "\n",
    "$$ H = -\\sum_{i=1}^{R}{\\frac{n_{i}}{N}\\log{\\big(\\frac{n_{i}}{N}\\big)}} $$ \n",
    "\n",
    "where \n",
    "* \\\\(R\\\\) is the total number of categories\n",
    "* \\\\(n_i\\\\) is the count of observations from category \\\\(i\\\\)\n",
    "* \\\\(N\\\\) is the total number of observations. \n",
    "\n",
    "This is the same equation for entropy, used in information theory, physics, and statistics. Claude Shannon published this result in 1948 in \"A Mathematical Theory of Communication\". <sup><a href='#7'>7</a> , <a href='#8'>8</a></sup> The Shannon Index takes a minimum value at 0 and a maximum value at \\\\(\\log{(R)}\\\\). Higher indices signify higher diversity. \n",
    "\n",
    "The sample variance of the Shannon Index is given by\n",
    "\n",
    "$$ s^{2}_{H} = \\frac{\\sum_{i=1}^{R}{\\frac{n_{i}}{N}\\big(\\log{\\frac{n_{i}}{N}}\\big)^{2}}\n",
    "- \\big(\\sum_{i=1}^{R}{\\frac{n_{i}}{N}\\log{\\frac{n_{i}}{N}}}\\big)^{2}}{N} \n",
    "+ \\frac{R-1}{2N^{2}}$$\n",
    "\n",
    "This will come in use later.\n",
    "\n",
    "While the Shannon Index will give a measure of diversity, it increases non-linearly, making it difficult to compare indices. One way to fix this is to transform the Shannon Index with the exponential function, \\\\(e^{H}\\\\). The result is scaled linearly and is known as a Hill Number. <sup><a href='#9'>9</a></sup> Hill Numbers can be explained as the effective number of categories for a demographic. <sup><a href='#10'>10</a></sup> If \\\\(R\\\\) different categories had equal frequencies \\\\(\\frac{1}{R}\\\\), then the Hill Number would be \\\\(R\\\\). As the frequencies get less similar, there are fewer effective categories.\n",
    "\n",
    "Using Hill Numbers, the change in specialized high school diversity can be visualized."
   ]
  },
  {
   "cell_type": "markdown",
   "metadata": {
    "_uuid": "0a91e5bfab0fa0b47d427168bda7d6f9f3750e42"
   },
   "source": [
    "## Visualization"
   ]
  },
  {
   "cell_type": "code",
   "execution_count": 27,
   "metadata": {
    "_kg_hide-input": false,
    "_uuid": "45330ee344488bb3dd5000a6deb72d1f8d200d90"
   },
   "outputs": [
    {
     "data": {
      "application/vnd.jupyter.widget-view+json": {
       "model_id": "3d4f097eedff401a8dca18e1687ab9b5",
       "version_major": 2,
       "version_minor": 0
      },
      "text/plain": [
       "Tab(children=(Output(), Output(), Output(), Output(), Output()), _titles={'0': 'Ethnicity', '1': 'Gender', '2'…"
      ]
     },
     "metadata": {},
     "output_type": "display_data"
    }
   ],
   "source": [
    "def percentage_table(date_range: Tuple[int, int], demographic_list: List[str], demographic_df: pd.DataFrame) -> pd.DataFrame:\n",
    "    \"\"\"\n",
    "    Creates a view of each schools' demographic percentages for 2 years\n",
    "    \n",
    "    Args:\n",
    "        date_range (Tuple[int,int]): The year range of demographic data to include.\n",
    "        demographic_list (List[str]): A list of demographic categories.\n",
    "        demographic_df (pd.DataFrame): A pandas dataframe of demographic values.\n",
    "\n",
    "    Returns:\n",
    "        pd.DataFrame: demographic dataframe filtered view.\n",
    "    \"\"\"\n",
    "    df = demographic_df.query('YEAR in [2013,2017]')[[' '.join(['%', demographic]) for demographic in demographic_list]]\n",
    "\n",
    "    overall_df = demographic_df.query('YEAR in [2013,2017]')[[' '.join(['#', demographic]) for demographic in demographic_list]]\\\n",
    "                               .groupby(level=1).agg(sum)\\\n",
    "                               .apply(lambda x: x/x.sum(), axis=1)\\\n",
    "                               .set_index(pd.MultiIndex.from_product([['OVERALL'], [2013,2017]]))\\\n",
    "                               .sort_index(axis=1)\n",
    "                \n",
    "    return df.append(overall_df.rename(columns = dict(zip(overall_df.columns, df.columns))))\n",
    "\n",
    "\n",
    "def highlight_rows(x):\n",
    "    \"\"\"\n",
    "    Will allow the percentage tables to be color coded:\n",
    "    Red = Decreased frequency from year 1 to year 2\n",
    "    Green = Increased frequency from year 1 to year 2\n",
    "    Blank = No decrease or increase from year 1 to year 2\n",
    "    \"\"\"\n",
    "    colors = []\n",
    "    for school in x.index.get_level_values(0):\n",
    "        if x[school,x.index.unique(level='YEAR')[1]] > x[school,x.index.unique(level='YEAR')[0]]:\n",
    "            colors.append('background-color: lightgreen')\n",
    "        elif x[school,x.index.unique(level='YEAR')[1]] < x[school,x.index.unique(level='YEAR')[0]]:\n",
    "            colors.append('background-color: #FDB5A6')\n",
    "        else:\n",
    "            colors.append('')\n",
    "    return colors\n",
    "\n",
    "\n",
    "outputs = [widgets.Output() for _ in demographic_dict.keys()]\n",
    "tab = widgets.Tab(children = outputs)\n",
    "for i, demographic in enumerate(demographic_dict.keys()):\n",
    "    tab.set_title(i, demographic)\n",
    "display(tab)    \n",
    "\n",
    "for i, demographic in enumerate(demographic_dict.keys()):\n",
    "    with outputs[i]:\n",
    "        display(Markdown('# {}'.format(demographic)));\n",
    "        display(percentage_table(years, demographic_dict[demographic], specialized_df).style.apply(highlight_rows, axis=0));"
   ]
  },
  {
   "cell_type": "code",
   "execution_count": 28,
   "metadata": {
    "_kg_hide-input": false,
    "_uuid": "9d835f322bded04b397166dd8f7e106976bb4870"
   },
   "outputs": [
    {
     "data": {
      "text/markdown": [
       "# Ethnicity"
      ],
      "text/plain": [
       "<IPython.core.display.Markdown object>"
      ]
     },
     "metadata": {},
     "output_type": "display_data"
    },
    {
     "data": {
      "image/png": "[encoded data removed]",
      "text/plain": [
       "<Figure size 1440x5184 with 2 Axes>"
      ]
     },
     "metadata": {},
     "output_type": "display_data"
    },
    {
     "data": {
      "text/markdown": [
       "# Gender"
      ],
      "text/plain": [
       "<IPython.core.display.Markdown object>"
      ]
     },
     "metadata": {},
     "output_type": "display_data"
    },
    {
     "data": {
      "image/png": "[encoded data removed]",
      "text/plain": [
       "<Figure size 1440x5184 with 2 Axes>"
      ]
     },
     "metadata": {},
     "output_type": "display_data"
    },
    {
     "data": {
      "text/markdown": [
       "# Disabilities"
      ],
      "text/plain": [
       "<IPython.core.display.Markdown object>"
      ]
     },
     "metadata": {},
     "output_type": "display_data"
    },
    {
     "data": {
      "image/png": "[encoded data removed]",
      "text/plain": [
       "<Figure size 1440x5184 with 2 Axes>"
      ]
     },
     "metadata": {},
     "output_type": "display_data"
    },
    {
     "data": {
      "text/markdown": [
       "# Poverty"
      ],
      "text/plain": [
       "<IPython.core.display.Markdown object>"
      ]
     },
     "metadata": {},
     "output_type": "display_data"
    },
    {
     "data": {
      "image/png": "[encoded data removed]",
      "text/plain": [
       "<Figure size 1440x5184 with 2 Axes>"
      ]
     },
     "metadata": {},
     "output_type": "display_data"
    },
    {
     "data": {
      "text/markdown": [
       "# English Language Learners"
      ],
      "text/plain": [
       "<IPython.core.display.Markdown object>"
      ]
     },
     "metadata": {},
     "output_type": "display_data"
    },
    {
     "data": {
      "image/png": "[encoded data removed]",
      "text/plain": [
       "<Figure size 1440x5184 with 2 Axes>"
      ]
     },
     "metadata": {},
     "output_type": "display_data"
    }
   ],
   "source": [
    "def log(n: float) -> float:\n",
    "    \"\"\"\n",
    "    Allows math.log to return 0 for log(0) instead of undefined for the purpose of calculating a Shannon Index.\n",
    "    \"\"\"\n",
    "    if n==0:\n",
    "        return 0\n",
    "    else:\n",
    "        return math.log(n)\n",
    "    \n",
    "    \n",
    "def shannon_index(categories: List[int]) -> Tuple[float, float, int]: \n",
    "    \"\"\"\n",
    "    Calculates Shannon Index numbers for a demographic list.\n",
    "    \n",
    "    Args:\n",
    "        categories (List[int]): A list of demographic categories.\n",
    "\n",
    "    Returns:\n",
    "        Tuple[float, float, int]: (Shannon Index expected value, Shannon Index variance, total number of observations)\n",
    "    \"\"\"\n",
    "    N = sum(categories)\n",
    "    expected_value = -sum((x/N)*log(x/N) for x in categories)\n",
    "    variance = ((sum((x/N)*(log(x/N)**2) for x in categories) - ((sum((x/N)*log(x/N) for x in categories))**2))/N) + ((len(categories)-1)/(2*(N**2)))\n",
    "    return (expected_value, variance, N)\n",
    "\n",
    "\n",
    "def shannon_list(date_range: Tuple[int, int], demographic_list: List[str], demographic_df: pd.DataFrame) -> List[Union[float, str]]:\n",
    "    \"\"\"\n",
    "    Creates a list of the yearly overall Shannon Index information for the specialized high schools.\n",
    "    \n",
    "    Args:\n",
    "        date_range (Tuple[int,int]): The year range of demographic data to include.\n",
    "        demographic_list (List[str]): A list of demographic categories.\n",
    "        demographic_df (pd.DataFrame): A pandas dataframe of demographic values.\n",
    "\n",
    "    Returns:\n",
    "        List[int, float, float, int]: A list of school year, Shannon expected value, Shannon variance, \n",
    "                                      and total number of observations as the value.\n",
    "    \"\"\"\n",
    "    shannon = []\n",
    "    for year in range(date_range[0], date_range[1]+1):\n",
    "        shannon.append([year, *shannon_index(list(demographic_df.xs(year, level='YEAR')[[' '.join(['#', demographic]) for demographic in demographic_list]].sum().values))])\n",
    "    return shannon\n",
    "\n",
    "\n",
    "def hill_graphs(date_range: Tuple[int, int], demographic_list: List[str], demographic_name: str, demographic_df: pd.DataFrame) -> None:\n",
    "    \"\"\"\n",
    "    Creates a set of bar charts and lineplots visualizing the change in diversity for a date range\n",
    "    \n",
    "    Args:\n",
    "        date_range (Tuple[int,int]): The year range of demographic data to include.\n",
    "        demographic_list (List[str]): A list of demographic categories.\n",
    "        demographic_name (str): The name of the demographic to be included in graph text.\n",
    "        demographic_df (pd.DataFrame): A pandas dataframe of demographic values.\n",
    "\n",
    "    Returns:\n",
    "        None: Multiple graphs.\n",
    "    \"\"\"\n",
    "    shannon = shannon_list(date_range, demographic_list, demographic_df)\n",
    "    \n",
    "    fig = plt.figure(figsize=(20, 8*(len(specialized_dict)+1)))\n",
    "    grid = plt.GridSpec(len(specialized_dict)+1, 3, hspace=0.4, wspace=0.4)\n",
    "\n",
    "    barcharts = fig.add_subplot(grid[i,:2])\n",
    "    barcharts.set_ylabel('Percentage')\n",
    "    barcharts.set_ylim(0,1)\n",
    "    barcharts.set_title(demographic_name + ' Distribution')\n",
    "    \n",
    "    demographic_df.query('YEAR in @date_range')[[' '.join(['#', demographic]) for demographic in demographic_list]]\\\n",
    "                   .groupby(level=1).sum().apply(lambda x: x/x.sum(), axis=1)\\\n",
    "                   .sort_index().T\\\n",
    "                   .plot(kind='bar', ax=barcharts, rot=0)\n",
    "\n",
    "\n",
    "    lineplots = fig.add_subplot(grid[i,2:])\n",
    "    lineplots.set_ylabel('Effective ' + demographic_name + ' Number')\n",
    "    lineplots.set_xlabel('Year')\n",
    "    lineplots.set_ylim(1, len(demographic_list))\n",
    "    lineplots.set_title('Hill Numbers Over Time')\n",
    "\n",
    "\n",
    "\n",
    "    lineplots.plot(*zip(*[[x[0], math.exp(x[1])] for x in shannon]), color=\"red\")\n",
    "\n",
    "    \n",
    "    \n",
    "    plt.show(fig);\n",
    "\n",
    "    \n",
    "for i, demographic in enumerate(demographic_dict.keys()):\n",
    "    display(Markdown('# {}'.format(demographic)))\n",
    "    hill_graphs(years, demographic_dict[demographic], demographic, specialized_df);"
   ]
  },
  {
   "cell_type": "markdown",
   "metadata": {
    "_uuid": "1f7cedfa53684f4adbf455a3bc6decea78afc39f"
   },
   "source": [
    "Some observations about the visualizations:"
   ]
  },
  {
   "cell_type": "markdown",
   "metadata": {
    "_uuid": "87bd3cd0f3dc6f00bb118b3937c49655c80bf214"
   },
   "source": [
    "**Ethnicity**:\n",
    "* The multiple ethnicities not represented have increased in overall frequency since 2013. They've noticingly become more present at the High School for Mathematics, Science, and Engineering at City College (HSMSE) and The Brooklyn Latin School, where both have \"other\" ethnicities make up more than 10% of their student body. \n",
    "* The proportion of Hispanic and black students has gone down in seven of the eight specialized high schools. \n",
    "* The proportion of Asian and white students has gone up in most high schools. "
   ]
  },
  {
   "cell_type": "markdown",
   "metadata": {
    "_uuid": "5ac4785d8301a1528f94974dc9de4ef144bf4d3a"
   },
   "source": [
    "**Gender**:\n",
    "* Since 2013, half of the high schools have increased in female proportion and half of the high schools have decreased in female proportion.\n",
    "* Overall, the proportions have changed less than a tenth of a percent."
   ]
  },
  {
   "cell_type": "markdown",
   "metadata": {
    "_uuid": "c9a7cf821102f0b6ce9ab1afde2edbbd64aeeb20"
   },
   "source": [
    "**Disability**:\n",
    "* Most high schools maintained a low number of students of disabilities, either increasing or decreasing by a relatively small amount. \n",
    "* High School for Mathematics, Science, and Engineering at City College (HSMSE) went from about 3.1% of its students having disabilities in 2013/2014 to 4.8% in 2017/2018."
   ]
  },
  {
   "cell_type": "markdown",
   "metadata": {
    "_uuid": "0acd71d120afeb2ba0ab413c4e48b540e6468c61"
   },
   "source": [
    "**Poverty**:\n",
    "* Overall, the percentage of students with poverty has gone down from 53.3% to 50.7%. Since this is closer to 50/50 though, the diversity has technically increased. If this trend continues, the diversity will start dropping once the proportion of students with poverty drops below 50%.\n",
    "* The proportion of students with poverty has gone down in every high school except for one. \n",
    "* The high school where the proportion of students with poverty increased was Staten Island Technical High School, where it went from 31.7% to 40.8%. "
   ]
  },
  {
   "cell_type": "markdown",
   "metadata": {
    "_uuid": "f2d2d3387e88d228d5e6fade831d1ff04e243853"
   },
   "source": [
    "**English Language Learners**\n",
    "* In 2013, 5 of the high schools had students who were English Language Learners. By 2017, only the High School for Mathematics, Science and Engineering at City College (HSMSE) did."
   ]
  },
  {
   "cell_type": "markdown",
   "metadata": {
    "_uuid": "0683abbf5a9e372ad1abc72f82d97d4b1d6d7289"
   },
   "source": [
    "## Hypothesis testing"
   ]
  },
  {
   "cell_type": "markdown",
   "metadata": {
    "_uuid": "e8c035a4ab45b408644284a760e898b57c41dcd7"
   },
   "source": [
    "Seeing the diversity visualized gives some initial details of how demographics have changed over the years. However, since some of the changes are subtle, it would be helpful if there was a way to see if any changes were statistically significant. One way to compare diversity is to use Hutcheson's t-test. <sup><a href='#11'>11</a> , <a href='#12'>12</a></sup> Created by Kermit Hutcheson in a letter to the editor in a 1970 issue of the Journal of Theoretical Biology, Hutcheson's t-test is an unpooled two-sample t-test specifically adapted for Shannon Indices.\n",
    "\n",
    "For this test, the null and alternative hypotheses are \\\\(H_0: H_a = H_b\\\\) and \\\\(H_1: H_a \\ne H_b\\\\) respectively, with \\\\(H_a\\\\) and \\\\(H_b\\\\) being the two Shannon Indices. The null hypothesis assumes equal diversity in the two samples. The test statistic is calculated as\n",
    "$$ t = \\frac{H_a - H_b}{\\sqrt{s^{2}_{H_a} + s^{2}_{H_b}}} $$\n",
    "\n",
    "with \\\\(s^{2}_{H}\\\\) being the sample variance of the Shannon Index. The degrees of freedom are given by\n",
    "\n",
    "$$ \\frac{\\big(s^{2}_{H_a} + s^{2}_{H_b}\\big)^2}\n",
    "{\\Bigg(\\frac{\\big(s^{2}_{H_a}\\big)^2}{N_a} + \\frac{\\big(s^{2}_{H_b}\\big)^2}{N_b}\\Bigg)} $$\n",
    "\n",
    "There will be five hypotheses tests ran: one for each demographic (ethnicity, gender, disability, poverty, English Language Learner). Each demographic will be tested on the specialized schools grouped together instead of individually. This will allow fewer hypotheses tests and answers the question at hand: have specialized schools become less diverse over the years. \n",
    "\n",
    "Since multiple tests are being conducted, the False Discovery Rate (the proportion of false rejections of the null hypothesis compared to the total number of rejections) will be controlled using the Benjamini-Hochberg procedure. <sup><a href='#13'>13</a></sup>"
   ]
  },
  {
   "cell_type": "code",
   "execution_count": 29,
   "metadata": {
    "_kg_hide-input": true,
    "_kg_hide-output": false,
    "_uuid": "01cbebf537346fcdfe0194e07285f9ca1eed8bdb"
   },
   "outputs": [],
   "source": [
    "def t_test(a: float, var_a: float, N_a: int, b: float, var_b: float, N_b: int) -> Tuple[float, int, float]:\n",
    "    \"\"\"\n",
    "    Calculates the Hutcheson t-test statistics to compare two Shannon Indices\n",
    "    \n",
    "    Args:\n",
    "        a (float): Shannon Index #1\n",
    "        var_a (float): Shannon Index #1 variance\n",
    "        N_a (float): total observations #1\n",
    "        b (float): Shannon Index #2\n",
    "        var_b (float): Shannon Index #2 variance\n",
    "        N_b: total observations #2\n",
    "\n",
    "    Returns:\n",
    "        Tuple[float, int, float]: A tuple of (t-statistic, degrees of freedom, p-value)\n",
    "    \"\"\"\n",
    "    t = (a - b)/math.sqrt(var_a + var_b)\n",
    "    df = math.ceil(((var_a + var_b)**2)/(((var_a**2)/N_a)+((var_b**2)/N_b)))\n",
    "    return (t, df, 1 - scipy.stats.t.cdf(math.fabs(t), df))\n",
    "\n",
    "def shannon_t_tests(date_range: Tuple[int, int]) -> pd.DataFrame:\n",
    "    \"\"\"\n",
    "    Creates table displaying multiple t-tests adjusted with the Benjamini-Hochberg procedure\n",
    "    \n",
    "    Args:\n",
    "        date_range (Tuple[int,int]): The year range of demographic data to include.\n",
    "        \n",
    "    Returns:\n",
    "        None: A pandas dataframe.\n",
    "    \"\"\"\n",
    "    significance_df = pd.DataFrame(data=None, columns = ['Name', \"Shannon Index \" + str(date_range[0]), \"Shannon Index \" + str(date_range[1]), 't', 'df', 'pval'])\n",
    "    for i, demographic in enumerate(demographic_dict.keys()):\n",
    "        shannon = shannon_list(date_range, demographic_dict[demographic], specialized_df)\n",
    "        significance_df.loc[i] = (demographic, shannon[0][1], shannon[-1][1], *t_test(*shannon[0][1:],*shannon[-1][1:]))\n",
    "    is_reject, corrected_pvals, _, _ = multipletests(significance_df[\"pval\"], alpha=0.05, method='fdr_bh')\n",
    "    significance_df[\"reject\"] = is_reject\n",
    "    significance_df[\"adj_pval\"] = corrected_pvals\n",
    "    return significance_df"
   ]
  },
  {
   "cell_type": "code",
   "execution_count": 30,
   "metadata": {
    "_kg_hide-input": false,
    "_uuid": "141d5b415aec5020fcd772856699e91c787e96a7"
   },
   "outputs": [
    {
     "data": {
      "text/html": [
       "<div>\n",
       "<style scoped>\n",
       "    .dataframe tbody tr th:only-of-type {\n",
       "        vertical-align: middle;\n",
       "    }\n",
       "\n",
       "    .dataframe tbody tr th {\n",
       "        vertical-align: top;\n",
       "    }\n",
       "\n",
       "    .dataframe thead th {\n",
       "        text-align: right;\n",
       "    }\n",
       "</style>\n",
       "<table border=\"1\" class=\"dataframe\">\n",
       "  <thead>\n",
       "    <tr style=\"text-align: right;\">\n",
       "      <th></th>\n",
       "      <th>Name</th>\n",
       "      <th>Shannon Index 2013</th>\n",
       "      <th>Shannon Index 2017</th>\n",
       "      <th>t</th>\n",
       "      <th>df</th>\n",
       "      <th>pval</th>\n",
       "      <th>reject</th>\n",
       "      <th>adj_pval</th>\n",
       "    </tr>\n",
       "  </thead>\n",
       "  <tbody>\n",
       "    <tr>\n",
       "      <th>0</th>\n",
       "      <td>Ethnicity</td>\n",
       "      <td>1.111196</td>\n",
       "      <td>1.064074</td>\n",
       "      <td>4.673599</td>\n",
       "      <td>30412</td>\n",
       "      <td>0.000001</td>\n",
       "      <td>True</td>\n",
       "      <td>0.000007</td>\n",
       "    </tr>\n",
       "    <tr>\n",
       "      <th>1</th>\n",
       "      <td>Gender</td>\n",
       "      <td>0.679389</td>\n",
       "      <td>0.679625</td>\n",
       "      <td>-0.125445</td>\n",
       "      <td>30330</td>\n",
       "      <td>0.450086</td>\n",
       "      <td>False</td>\n",
       "      <td>0.450086</td>\n",
       "    </tr>\n",
       "    <tr>\n",
       "      <th>2</th>\n",
       "      <td>Disabilities</td>\n",
       "      <td>0.067505</td>\n",
       "      <td>0.066563</td>\n",
       "      <td>0.169228</td>\n",
       "      <td>30346</td>\n",
       "      <td>0.432809</td>\n",
       "      <td>False</td>\n",
       "      <td>0.450086</td>\n",
       "    </tr>\n",
       "    <tr>\n",
       "      <th>3</th>\n",
       "      <td>Poverty</td>\n",
       "      <td>0.690904</td>\n",
       "      <td>0.693036</td>\n",
       "      <td>-3.770782</td>\n",
       "      <td>16485</td>\n",
       "      <td>0.000082</td>\n",
       "      <td>True</td>\n",
       "      <td>0.000204</td>\n",
       "    </tr>\n",
       "    <tr>\n",
       "      <th>4</th>\n",
       "      <td>English Language Learners</td>\n",
       "      <td>0.007499</td>\n",
       "      <td>0.000685</td>\n",
       "      <td>3.663771</td>\n",
       "      <td>18587</td>\n",
       "      <td>0.000125</td>\n",
       "      <td>True</td>\n",
       "      <td>0.000208</td>\n",
       "    </tr>\n",
       "  </tbody>\n",
       "</table>\n",
       "</div>"
      ],
      "text/plain": [
       "                        Name  Shannon Index 2013  Shannon Index 2017  \\\n",
       "0                  Ethnicity            1.111196            1.064074   \n",
       "1                     Gender            0.679389            0.679625   \n",
       "2               Disabilities            0.067505            0.066563   \n",
       "3                    Poverty            0.690904            0.693036   \n",
       "4  English Language Learners            0.007499            0.000685   \n",
       "\n",
       "          t     df      pval  reject  adj_pval  \n",
       "0  4.673599  30412  0.000001    True  0.000007  \n",
       "1 -0.125445  30330  0.450086   False  0.450086  \n",
       "2  0.169228  30346  0.432809   False  0.450086  \n",
       "3 -3.770782  16485  0.000082    True  0.000204  \n",
       "4  3.663771  18587  0.000125    True  0.000208  "
      ]
     },
     "execution_count": 30,
     "metadata": {},
     "output_type": "execute_result"
    }
   ],
   "source": [
    "shannon_t_tests(years)"
   ]
  },
  {
   "cell_type": "markdown",
   "metadata": {
    "_uuid": "864d66b7bd085f7e6a7e8393ca7643a4bdf74a8a"
   },
   "source": [
    "After adjusting for multiple tests, the null hypotheses for ethnicity, poverty, and English Language Learners are rejected at a rejection level of \\\\(\\alpha=0.05\\\\). Therefore, there is evidence that the diversity of these demographics in specialized high schools between the 2013/2014 school year and the 2017/2018 school year is not equal. In the cases of ethnicity and English Language Learners, it appears that the diversity has decreased. With poverty, it appears that the diversity has actually increased. \n",
    "\n",
    "Looking at the visualizations of the data again, this makes some sense. "
   ]
  },
  {
   "cell_type": "markdown",
   "metadata": {
    "_uuid": "9bd3759807f8935a1e928d28c26c9dff3047394c"
   },
   "source": [
    "* Ethnicity appears not to have changed too much, but since the total enrollment of students in specialized high schools is 14,876 in the 2013/2014 school year and 15,540 in the 2017/2018, the variance is lower. Even a small change is significant."
   ]
  },
  {
   "cell_type": "code",
   "execution_count": 31,
   "metadata": {
    "_kg_hide-input": true,
    "_uuid": "22ed1feb8954f2e6b9f65353d03d215fb4a14ef4"
   },
   "outputs": [
    {
     "name": "stdout",
     "output_type": "stream",
     "text": [
      "Total enrollment in 2013: 14876\n",
      "Total enrollment in 2017: 15540\n"
     ]
    }
   ],
   "source": [
    "for year in years:\n",
    "    print('Total enrollment in {}: {}'.format(year, specialized_df.query('YEAR==@year')['TOTAL ENROLLMENT'].sum()))"
   ]
  },
  {
   "cell_type": "markdown",
   "metadata": {
    "_uuid": "2bb3ea1fe932337c5582944c9bd0a206ccc5a431"
   },
   "source": [
    "* Both gender and disability seem to have not changed at all, so it is not surprising that the difference in their proportions was not big enough to warrant a rejection of the null hypothesis. \n",
    "* The proportion of students with poverty at the specialized high schools shifted by +/- 2.5. Since the proportions converged near 50%, the diversity is near it's maximum Hill Number value. \n",
    "* The English Language Learner percentages in 2013 and 2017 look nearly identical, but since there were 14 students who were English Language Learners in 2013 and only 1 in 2017, it decreased significantly. "
   ]
  },
  {
   "cell_type": "code",
   "execution_count": 32,
   "metadata": {
    "_kg_hide-input": true,
    "_uuid": "a95824678b89a501db956daf4e8ed0926f030701"
   },
   "outputs": [
    {
     "name": "stdout",
     "output_type": "stream",
     "text": [
      "Total English Language Learner enrollment in 2013: 14\n",
      "Total English Language Learner enrollment in 2017: 1\n"
     ]
    }
   ],
   "source": [
    "for year in years:\n",
    "    print('Total English Language Learner enrollment in {}: {}'.format(year, specialized_df.query('YEAR==@year')['# ENGLISH LANGUAGE LEARNERS'].sum()))"
   ]
  },
  {
   "cell_type": "markdown",
   "metadata": {
    "_uuid": "7e1737962145a44ff76a7f752d0d192731a51996"
   },
   "source": [
    "In retrospect, it may be difficult to quantify students as English Language Learners. Since one of the two components of the SHSAT is English Language Arts<sup>1</sup>,  a student needs to be adept at the English language to score well. If a student scores well enough to pass, they might not consider themselves an English Language Learner. \n",
    "\n",
    "With that being said, the only quantifiable demographic that has gone down in diversity in the specialized high schools is ethnicity. In regards to ethnicity, PASSNYC is correct in saying that the student bodies have become more homogeneous over the past few years. The second part of this project will aim to find ways to fix that. "
   ]
  },
  {
   "cell_type": "markdown",
   "metadata": {
    "_uuid": "8c9ed805d49bba73620141204daced6fc344a721",
    "collapsed": true
   },
   "source": [
    "# Bibliography\n",
    "\n",
    "<br/>\n",
    "<br/>\n",
    "<a id='1'> 1. </a> <a href='https://www.kaggle.com/new-york-city/nyc-high-school-directory/home'> \"NYC High School Directory\" on Kaggle</a><br/>\n",
    "\n",
    "<a id='2'> 2. </a> <a href='https://laguardiahs.org/apps/pages/index.jsp?uREC_ID=314119&type=d'>Fiorello H. LaGuardia High School Website</a><br/>\n",
    "\n",
    "<a id='3'> 3. </a> <a href='https://www.princetonreview.com/k12/shsat-information'>SHSAT Information from The Princeton Review</a><br/>\n",
    "\n",
    "<a id='4'> 4. </a> <a href='http://www.passnyc.org/'>PASSNYC Website</a><br/>\n",
    "\n",
    "<a id='5'> 5. </a> <a href='https://data.cityofnewyork.us/Education/2013-2018-Demographic-Snapshot-School/s52a-8aq6'> \"2013-2018 Demographic Snapshot School\" on NYC Open Data</a><br/>\n",
    "\n",
    "<a id='6'> 6. </a> <a href='https://en.wikipedia.org/wiki/Diversity_index#Simpson_index'> Wikipedia article on diversity indices </a><br/>\n",
    "\n",
    "<a id='7'> 7. </a> <a href='http://eebweb.arizona.edu/courses/Ecol206/shannon%20weaver-wiener.pdf'> Ian F. Spellerberg and Peter J. Fedor \"A tribute to Claude Shannon (1916–2001) and a plea for\n",
    "more rigorous use of species richness, species diversity\n",
    "and the ‘Shannon–Wiener’ Index\", 2003 </a><br/>\n",
    "\n",
    "<a id='8'> 8. </a> <a href='http://math.harvard.edu/~ctm/home/text/others/shannon/entropy/entropy.pdf'>Claude Shannon \"A Mathematical Theory of Communication\", 1948 </a><br/>\n",
    "\n",
    "<a id='9'> 9. </a> <a href='https://www.uvm.edu/~ngotelli/manuscriptpdfs/ChaoHill.pdf'>Anne Chao \"Rarefaction and extrapolation with Hill numbers: a framework\n",
    "for sampling and estimation in species diversity studies\", 2014</a><br/>\n",
    "\n",
    "<a id='10'> 10. </a> <a href='http://www.loujost.com/Statistics%20and%20Physics/Diversity%20and%20Similarity/EffectiveNumberOfSpecies.htm'>Lou Jost on \"Effective Number of Species\"</a><br/>\n",
    "\n",
    "<a id='11'> 11. </a> <a href='https://www.sciencedirect.com/science/article/pii/0022519370901244'>Kermit Hutcheson \"A test for comparing diversities based on the shannon formula\", 1970 </a><br/>\n",
    "\n",
    "<a id='12'> 12. </a> <a href='http://www.dataanalytics.org.uk/Publications/S4E2e%20Support/exercises/Comparing%20shannon%20diversity.htm'>Post by Mark Gardener on DataAnalytics.org.uk about calculating the Hutcheson's t-test</a><br/>\n",
    "\n",
    "<a id='13'> 13. </a> <a href='https://multithreaded.stitchfix.com/blog/2015/10/15/multiple-hypothesis-testing/'>More reading about Benjamini</a><br/>"
   ]
  }
 ],
 "metadata": {
  "kernelspec": {
   "display_name": "Python 3",
   "language": "python",
   "name": "python3"
  },
  "language_info": {
   "codemirror_mode": {
    "name": "ipython",
    "version": 3
   },
   "file_extension": ".py",
   "mimetype": "text/x-python",
   "name": "python",
   "nbconvert_exporter": "python",
   "pygments_lexer": "ipython3",
   "version": "3.6.2"
  }
 },
 "nbformat": 4,
 "nbformat_minor": 1
}
